{
 "cells": [
  {
   "cell_type": "code",
   "execution_count": 15,
   "metadata": {},
   "outputs": [],
   "source": [
    "import requests\n",
    "import pandas as pd\n",
    "import json"
   ]
  },
  {
   "cell_type": "code",
   "execution_count": 60,
   "metadata": {},
   "outputs": [],
   "source": [
    "response = requests.get(\"http://www.webenv.net/noviows/novio.svc/GetDataLog/cmF5OjA0MjA=/363/20190901/20191024\")"
   ]
  },
  {
   "cell_type": "code",
   "execution_count": 62,
   "metadata": {},
   "outputs": [],
   "source": [
    "df = pd.read_json (response.text)"
   ]
  },
  {
   "cell_type": "code",
   "execution_count": 31,
   "metadata": {},
   "outputs": [],
   "source": [
    "def CustomParser(data):\n",
    "    j1 = json.loads(data)\n",
    "    return j1\n"
   ]
  },
  {
   "cell_type": "code",
   "execution_count": 63,
   "metadata": {},
   "outputs": [
    {
     "data": {
      "text/plain": [
       "{'ID': '363',\n",
       " 'LogTime': '2019-09-24 00:01:07',\n",
       " 'ch1': '27',\n",
       " 'ch2': '40',\n",
       " 'ch3': '43',\n",
       " 'ch4': '6',\n",
       " 'ch5': '6',\n",
       " 'ch6': '6',\n",
       " 'ch7': '16',\n",
       " 'ch8': '27',\n",
       " 'ch9': '27',\n",
       " 'ch10': '191',\n",
       " 'ch11': '0',\n",
       " 'ch12': '0',\n",
       " 'ch13': '0',\n",
       " 'ch14': '0',\n",
       " 'ch15': '0',\n",
       " 'ch16': '0',\n",
       " 'ch17': 'null',\n",
       " 'ch18': 'null'}"
      ]
     },
     "execution_count": 63,
     "metadata": {},
     "output_type": "execute_result"
    }
   ],
   "source": [
    "df['datalog'][0]"
   ]
  },
  {
   "cell_type": "code",
   "execution_count": 64,
   "metadata": {},
   "outputs": [
    {
     "data": {
      "text/html": [
       "<div>\n",
       "<style scoped>\n",
       "    .dataframe tbody tr th:only-of-type {\n",
       "        vertical-align: middle;\n",
       "    }\n",
       "\n",
       "    .dataframe tbody tr th {\n",
       "        vertical-align: top;\n",
       "    }\n",
       "\n",
       "    .dataframe thead th {\n",
       "        text-align: right;\n",
       "    }\n",
       "</style>\n",
       "<table border=\"1\" class=\"dataframe\">\n",
       "  <thead>\n",
       "    <tr style=\"text-align: right;\">\n",
       "      <th></th>\n",
       "      <th>ID</th>\n",
       "      <th>LogTime</th>\n",
       "      <th>ch1</th>\n",
       "      <th>ch2</th>\n",
       "      <th>ch3</th>\n",
       "      <th>ch4</th>\n",
       "      <th>ch5</th>\n",
       "      <th>ch6</th>\n",
       "      <th>ch7</th>\n",
       "      <th>ch8</th>\n",
       "      <th>ch9</th>\n",
       "      <th>ch10</th>\n",
       "      <th>ch11</th>\n",
       "      <th>ch12</th>\n",
       "      <th>ch13</th>\n",
       "      <th>ch14</th>\n",
       "      <th>ch15</th>\n",
       "      <th>ch16</th>\n",
       "      <th>ch17</th>\n",
       "      <th>ch18</th>\n",
       "    </tr>\n",
       "  </thead>\n",
       "  <tbody>\n",
       "    <tr>\n",
       "      <th>0</th>\n",
       "      <td>363</td>\n",
       "      <td>2019-09-24 00:02:08</td>\n",
       "      <td>27</td>\n",
       "      <td>40</td>\n",
       "      <td>43</td>\n",
       "      <td>6</td>\n",
       "      <td>6</td>\n",
       "      <td>6</td>\n",
       "      <td>16</td>\n",
       "      <td>27</td>\n",
       "      <td>27</td>\n",
       "      <td>193</td>\n",
       "      <td>0</td>\n",
       "      <td>0</td>\n",
       "      <td>0</td>\n",
       "      <td>0</td>\n",
       "      <td>0</td>\n",
       "      <td>0</td>\n",
       "      <td>null</td>\n",
       "      <td>null</td>\n",
       "    </tr>\n",
       "  </tbody>\n",
       "</table>\n",
       "</div>"
      ],
      "text/plain": [
       "    ID              LogTime ch1 ch2 ch3 ch4 ch5 ch6 ch7 ch8 ch9 ch10 ch11  \\\n",
       "0  363  2019-09-24 00:02:08  27  40  43   6   6   6  16  27  27  193    0   \n",
       "\n",
       "  ch12 ch13 ch14 ch15 ch16  ch17  ch18  \n",
       "0    0    0    0    0    0  null  null  "
      ]
     },
     "execution_count": 64,
     "metadata": {},
     "output_type": "execute_result"
    }
   ],
   "source": [
    "pd.DataFrame(df['datalog'][1], index = [0])"
   ]
  },
  {
   "cell_type": "code",
   "execution_count": 85,
   "metadata": {},
   "outputs": [],
   "source": [
    "def get_datalog(start_date:str, end_date:str, device_ID:str, API:str, authorization_code:str):\n",
    "    '''\n",
    "    Variables: \n",
    "        1. start_date: the start date of the data log requesting\n",
    "        2. end_date: the last date of the data log requesting\n",
    "        3. API: https service address\n",
    "        4. authorization_code: required and will be parsed for API\n",
    "    \n",
    "    Usage: \n",
    "        The program will attempt to request the information based on the user input and return pandas data frame.\n",
    "        Success: \n",
    "            return pandas data frame including the information from the request\n",
    "        Failure: \n",
    "            1. if any of the arguments is invalid will print error message and return; \n",
    "            2. if the request is not successful from the server will parse the message and return\n",
    "            \n",
    "    Packages required: \n",
    "        1. json\n",
    "        2. requests\n",
    "        3. pandas\n",
    "    '''\n",
    "    ## load packages \n",
    "    import json \n",
    "    import requests\n",
    "    import pandas as pd\n",
    "    ## check input validity\n",
    "    if len(start_date) != 8 or len(end_date)!= 8: \n",
    "        print(\"Input must in format YYYYMMDD!\")\n",
    "        return;\n",
    "    # check if start date and end date sequence validity\n",
    "    if start_date > end_date: \n",
    "        print(\"Please check the order of start date and end date\")\n",
    "        return;\n",
    "    full_path = \"/\".join([API, authorization_code, device_ID, start_date, end_date])\n",
    "    \n",
    "    "
   ]
  },
  {
   "cell_type": "code",
   "execution_count": 86,
   "metadata": {},
   "outputs": [
    {
     "ename": "FileNotFoundError",
     "evalue": "[Errno 2] No such file or directory: 'WebEnv_API.txt'",
     "output_type": "error",
     "traceback": [
      "\u001b[0;31m---------------------------------------------------------------------------\u001b[0m",
      "\u001b[0;31mFileNotFoundError\u001b[0m                         Traceback (most recent call last)",
      "\u001b[0;32m<ipython-input-86-5858ff52cd31>\u001b[0m in \u001b[0;36m<module>\u001b[0;34m()\u001b[0m\n\u001b[0;32m----> 1\u001b[0;31m \u001b[0;32mwith\u001b[0m \u001b[0mopen\u001b[0m\u001b[0;34m(\u001b[0m\u001b[0;34m'WebEnv_API.txt'\u001b[0m\u001b[0;34m)\u001b[0m \u001b[0;32mas\u001b[0m \u001b[0mf\u001b[0m\u001b[0;34m:\u001b[0m\u001b[0;34m\u001b[0m\u001b[0m\n\u001b[0m\u001b[1;32m      2\u001b[0m     \u001b[0mAPI\u001b[0m \u001b[0;34m=\u001b[0m \u001b[0mf\u001b[0m\u001b[0;34m.\u001b[0m\u001b[0mreadline\u001b[0m\u001b[0;34m(\u001b[0m\u001b[0;34m)\u001b[0m\u001b[0;34m\u001b[0m\u001b[0m\n\u001b[1;32m      3\u001b[0m     \u001b[0mf\u001b[0m\u001b[0;34m.\u001b[0m\u001b[0mclose\u001b[0m\u001b[0;34m(\u001b[0m\u001b[0;34m)\u001b[0m\u001b[0;34m\u001b[0m\u001b[0m\n\u001b[1;32m      4\u001b[0m \u001b[0;32mwith\u001b[0m \u001b[0mopen\u001b[0m\u001b[0;34m(\u001b[0m\u001b[0;34m'auth_code.txt'\u001b[0m\u001b[0;34m)\u001b[0m \u001b[0;32mas\u001b[0m \u001b[0mf\u001b[0m\u001b[0;34m:\u001b[0m\u001b[0;34m\u001b[0m\u001b[0m\n\u001b[1;32m      5\u001b[0m     \u001b[0mauth\u001b[0m \u001b[0;34m=\u001b[0m \u001b[0mf\u001b[0m\u001b[0;34m.\u001b[0m\u001b[0mreadline\u001b[0m\u001b[0;34m(\u001b[0m\u001b[0;34m)\u001b[0m\u001b[0;34m\u001b[0m\u001b[0m\n",
      "\u001b[0;31mFileNotFoundError\u001b[0m: [Errno 2] No such file or directory: 'WebEnv_API.txt'"
     ]
    }
   ],
   "source": [
    "with open('WebEnv_API.txt') as f:\n",
    "    API = f.readline()\n",
    "    f.close()\n",
    "with open('auth_code.txt') as f:\n",
    "    auth = f.readline()\n",
    "    f.close()"
   ]
  },
  {
   "cell_type": "code",
   "execution_count": 84,
   "metadata": {},
   "outputs": [
    {
     "data": {
      "text/plain": [
       "'cmF5OjA0MjA='"
      ]
     },
     "execution_count": 84,
     "metadata": {},
     "output_type": "execute_result"
    }
   ],
   "source": []
  }
 ],
 "metadata": {
  "kernelspec": {
   "display_name": "Python 3",
   "language": "python",
   "name": "python3"
  },
  "language_info": {
   "codemirror_mode": {
    "name": "ipython",
    "version": 3
   },
   "file_extension": ".py",
   "mimetype": "text/x-python",
   "name": "python",
   "nbconvert_exporter": "python",
   "pygments_lexer": "ipython3",
   "version": "3.6.5"
  }
 },
 "nbformat": 4,
 "nbformat_minor": 2
}
