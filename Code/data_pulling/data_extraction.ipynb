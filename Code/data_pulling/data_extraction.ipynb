{
 "cells": [
  {
   "cell_type": "code",
   "execution_count": 33,
   "metadata": {},
   "outputs": [],
   "source": [
    "import json \n",
    "import requests\n",
    "import pandas as pd"
   ]
  },
  {
   "cell_type": "code",
   "execution_count": 40,
   "metadata": {},
   "outputs": [],
   "source": [
    "def get_datalog(start_date:str, end_date:str, device_ID:str, API:str, authorization_code:str, verbose = True):\n",
    "    '''\n",
    "    Variables: \n",
    "        1. start_date: the start date of the data log requesting\n",
    "        2. end_date: the last date of the data log requesting\n",
    "        3. API: https service address\n",
    "        4. authorization_code: required and will be parsed for API\n",
    "    \n",
    "    Usage: \n",
    "        The program will attempt to request the information based on the user input and return pandas data frame.\n",
    "        Success: \n",
    "            return pandas data frame including the information from the request\n",
    "        Failure: \n",
    "            1. if any of the arguments is invalid will print error message and return; \n",
    "            2. if the request is not successful from the server will parse the message and return\n",
    "            \n",
    "    Packages required: \n",
    "        1. json\n",
    "        2. requests\n",
    "        3. pandas\n",
    "    '''\n",
    "    ## load packages \n",
    "    import json \n",
    "    import requests\n",
    "    import pandas as pd\n",
    "    \n",
    "    ## check input validity\n",
    "    if len(start_date) != 8 or len(end_date)!= 8: \n",
    "        print(\"Input must in format YYYYMMDD!\")\n",
    "        return;\n",
    "    # check if start date and end date sequence validity\n",
    "    if start_date > end_date: \n",
    "        print(\"Please check the order of start date and end date\")\n",
    "        return;\n",
    "    url = \"/\".join([API, authorization_code, device_ID, start_date, end_date])\n",
    "    \n",
    "    if verbose: print(url)\n",
    "    ## get data, code refer and modified from \"https://realpython.com/python-requests/\"\n",
    "    try:\n",
    "        response = requests.get(url)\n",
    "\n",
    "        # If the response was successful, no Exception will be raised\n",
    "        response.raise_for_status()\n",
    "    except HTTPError as http_err:\n",
    "        print(f'HTTP error occurred: {http_err}')  \n",
    "    except Exception as err:\n",
    "        print(f'Other error occurred: {err}')  \n",
    "    \n",
    "    ## extract information from json\n",
    "    \n",
    "    ## first convert json into dictionary can check if the status is correct\n",
    "    obj = json.loads(response.text)\n",
    "    \n",
    "    if obj['status'] != 'success':\n",
    "        print('Failed! ' + obj['status'])\n",
    "        return\n",
    "    return pd.DataFrame(obj['datalog'])"
   ]
  },
  {
   "cell_type": "code",
   "execution_count": 47,
   "metadata": {},
   "outputs": [],
   "source": [
    "with open('WebEnv_API.txt') as f:\n",
    "    API = f.readline()\n",
    "    f.close()\n",
    "with open('auth_code.txt') as f:\n",
    "    auth = f.readline()\n",
    "    f.close()"
   ]
  },
  {
   "cell_type": "code",
   "execution_count": 67,
   "metadata": {},
   "outputs": [
    {
     "data": {
      "text/plain": [
       "['1', '2', '3', '4', '5', '6', '7', '8', '9', '10']"
      ]
     },
     "execution_count": 67,
     "metadata": {},
     "output_type": "execute_result"
    }
   ],
   "source": []
  },
  {
   "cell_type": "code",
   "execution_count": 105,
   "metadata": {},
   "outputs": [],
   "source": [
    "start_date = '20191025'\n",
    "end_date = '20191124'\n",
    "lst_device = ['324', '113', '363', '364', '288', '287', '285', '197', '279', '278', '277']\n",
    "lst_port = [['3','5'],\n",
    "           ['1','2','3','4','11','12'],\n",
    "           [str(x) for x in range(1,11)],\n",
    "           ['1'],\n",
    "           [str(x) for x in range(1,11)],\n",
    "           ['1'],\n",
    "           [str(x) for x in range(1,11)],\n",
    "           ['1'],\n",
    "           ['1'],\n",
    "           ['1'],\n",
    "           ['1']]"
   ]
  },
  {
   "cell_type": "code",
   "execution_count": 106,
   "metadata": {},
   "outputs": [
    {
     "name": "stdout",
     "output_type": "stream",
     "text": [
      "file: ( 1 / 11)\n",
      "---------------------------------------\n",
      "Getting data from device 324....\n",
      "['LogTime', 'ch3', 'ch5']\n",
      "Saving .csv to file path: ../../Data/DevID_324_20191025_20191124.csv\n",
      "file: ( 2 / 11)\n",
      "---------------------------------------\n",
      "Getting data from device 113....\n",
      "['LogTime', 'ch1', 'ch2', 'ch3', 'ch4', 'ch11', 'ch12']\n",
      "Saving .csv to file path: ../../Data/DevID_113_20191025_20191124.csv\n",
      "file: ( 3 / 11)\n",
      "---------------------------------------\n",
      "Getting data from device 363....\n",
      "['LogTime', 'ch1', 'ch2', 'ch3', 'ch4', 'ch5', 'ch6', 'ch7', 'ch8', 'ch9', 'ch10']\n",
      "Saving .csv to file path: ../../Data/DevID_363_20191025_20191124.csv\n",
      "file: ( 4 / 11)\n",
      "---------------------------------------\n",
      "Getting data from device 364....\n",
      "['LogTime', 'ch1']\n",
      "Saving .csv to file path: ../../Data/DevID_364_20191025_20191124.csv\n",
      "file: ( 5 / 11)\n",
      "---------------------------------------\n",
      "Getting data from device 288....\n",
      "['LogTime', 'ch1', 'ch2', 'ch3', 'ch4', 'ch5', 'ch6', 'ch7', 'ch8', 'ch9', 'ch10']\n",
      "Saving .csv to file path: ../../Data/DevID_288_20191025_20191124.csv\n",
      "file: ( 6 / 11)\n",
      "---------------------------------------\n",
      "Getting data from device 287....\n",
      "['LogTime', 'ch1']\n",
      "Saving .csv to file path: ../../Data/DevID_287_20191025_20191124.csv\n",
      "file: ( 7 / 11)\n",
      "---------------------------------------\n",
      "Getting data from device 285....\n",
      "['LogTime', 'ch1', 'ch2', 'ch3', 'ch4', 'ch5', 'ch6', 'ch7', 'ch8', 'ch9', 'ch10']\n",
      "Saving .csv to file path: ../../Data/DevID_285_20191025_20191124.csv\n",
      "file: ( 8 / 11)\n",
      "---------------------------------------\n",
      "Getting data from device 197....\n",
      "['LogTime', 'ch1']\n",
      "Saving .csv to file path: ../../Data/DevID_197_20191025_20191124.csv\n",
      "file: ( 9 / 11)\n",
      "---------------------------------------\n",
      "Getting data from device 279....\n",
      "['LogTime', 'ch1']\n",
      "Saving .csv to file path: ../../Data/DevID_279_20191025_20191124.csv\n",
      "file: ( 10 / 11)\n",
      "---------------------------------------\n",
      "Getting data from device 278....\n",
      "['LogTime', 'ch1']\n",
      "Saving .csv to file path: ../../Data/DevID_278_20191025_20191124.csv\n",
      "file: ( 11 / 11)\n",
      "---------------------------------------\n",
      "Getting data from device 277....\n",
      "['LogTime', 'ch1']\n",
      "Saving .csv to file path: ../../Data/DevID_277_20191025_20191124.csv\n"
     ]
    }
   ],
   "source": [
    "## download data\n",
    "for pos, device_id in enumerate(lst_device):\n",
    "    print('file: (' , str(pos + 1), '/ ' + str(len(lst_device)) + ')')\n",
    "    print('---------------------------------------')\n",
    "    print('Getting data from device ' + device_id + '....')\n",
    "    df = get_datalog(start_date, end_date, device_id, API, auth, False)\n",
    "    file_name = '_'.join(['DevID', device_id, start_date, end_date]) + '.csv'\n",
    "    file_path = '../../' + 'Data/' + file_name\n",
    "    var_lst = ['LogTime'] + ['ch' + str(x)for x in lst_port[pos]]\n",
    "    df = df[var_lst]\n",
    "    df.columns = [device_id + '_LogTime'] + [device_id + '_ch' + str(x)for x in lst_port[pos]]\n",
    "    print(var_lst)\n",
    "    print('Saving .csv to file path:', file_path)\n",
    "    df.to_csv(file_path)"
   ]
  }
 ],
 "metadata": {
  "kernelspec": {
   "display_name": "Python 3",
   "language": "python",
   "name": "python3"
  },
  "language_info": {
   "codemirror_mode": {
    "name": "ipython",
    "version": 3
   },
   "file_extension": ".py",
   "mimetype": "text/x-python",
   "name": "python",
   "nbconvert_exporter": "python",
   "pygments_lexer": "ipython3",
   "version": "3.6.9"
  }
 },
 "nbformat": 4,
 "nbformat_minor": 4
}
