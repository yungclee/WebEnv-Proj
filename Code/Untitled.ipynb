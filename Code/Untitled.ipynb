{
 "cells": [
  {
   "cell_type": "code",
   "execution_count": 76,
   "metadata": {},
   "outputs": [],
   "source": [
    "import json\n",
    "import sys\n",
    "def add_device(deviceID):\n",
    "        ## check input type and convert to python dictionary, expected json convert to dict\n",
    "        if not isinstance(deviceID, dict):\n",
    "            json2dict = json.loads(deviceID)\n",
    "            lst_devices = []\n",
    "            lst_ports =[]\n",
    "            len_check = []\n",
    "            for i, (key, val) in enumerate(json2dict.items()):\n",
    "                #print(key, val)\n",
    "                len_check.append(len(val))\n",
    "                if i == 0: \n",
    "                    lst_devices = val\n",
    "                elif i == 1:\n",
    "                    lst_ports = val\n",
    "            ## check the length matches \n",
    "            if len(len_check) == 2:\n",
    "                if all(l == len_check[0] for l in len_check):\n",
    "                    sys.stdout.write(\"Number of Devices entered: #%3s \\n\" %len_check[0])\n",
    "                    for key, val in zip(lst_devices, lst_ports):\n",
    "                        sys.stdout.write(\"Device [#%3s] ports:\" %key)\n",
    "                        for elmt in val: \n",
    "                            sys.stdout.write(\"#%2s \" %elmt)\n",
    "                        sys.stdout.write('\\n')\n",
    "                else:\n",
    "                    sys.stderr.write(\"Number of Devices and Ports unmatched... Devices:#%3s, Ports:#%3s\" %(len_check[0],len_check[1]))\n",
    "            else: \n",
    "                sys.stderr.write(\"Unexpected or Extra variables entered.\")\n",
    "            "
   ]
  },
  {
   "cell_type": "code",
   "execution_count": 42,
   "metadata": {},
   "outputs": [],
   "source": [
    "test_string = '{ \"lst_device\":[\"324\", \"113\", \"363\", \"364\", \"288\", \"287\", \"285\", \"197\", \"279\", \"278\", \"277\"], \\\n",
    "\"lst_ports\": [[\"3\", \"5\"], [\"1\", \"2\", \"3\", \"4\", \"11\", \"12\"], [\"1\", \"2\", \"3\", \"4\", \"5\", \"6\", \"7\", \"8\", \"9\", \"10\"], \\\n",
    "[\"1\"], [\"1\", \"2\", \"3\", \"4\", \"5\", \"6\", \"7\", \"8\", \"9\", \"10\"], [\"1\"], [\"1\", \"2\", \"3\", \"4\", \"5\", \"6\", \"7\", \"8\", \"9\", \"10\"], [\"1\"], [\"1\"], [\"1\"], [\"1\"]]}'"
   ]
  },
  {
   "cell_type": "code",
   "execution_count": 45,
   "metadata": {},
   "outputs": [],
   "source": [
    "err_string = '{ \"lst_device\":[\"324\", \"113\", \"363\", \"364\", \"288\", \"287\", \"285\", \"197\", \"279\", \"278\", \"277\"], \\\n",
    "\"lst_ports\": [[\"3\", \"5\"], [\"1\", \"2\", \"3\", \"4\", \"11\", \"12\"], [\"1\", \"2\", \"3\", \"4\", \"5\", \"6\", \"7\", \"8\", \"9\", \"10\"], \\\n",
    "[\"1\"], [\"1\", \"2\", \"3\", \"4\", \"5\", \"6\", \"7\", \"8\", \"9\", \"10\"], [\"1\"], [\"1\", \"2\", \"3\", \"4\", \"5\", \"6\", \"7\", \"8\", \"9\", \"10\"], [\"1\"], [\"1\"], [\"1\"]]}'"
   ]
  },
  {
   "cell_type": "code",
   "execution_count": 77,
   "metadata": {},
   "outputs": [
    {
     "name": "stdout",
     "output_type": "stream",
     "text": [
      "Number of Devices entered: # 11 \n",
      "Device [#324] ports:# 3 # 5 \n",
      "Device [#113] ports:# 1 # 2 # 3 # 4 #11 #12 \n",
      "Device [#363] ports:# 1 # 2 # 3 # 4 # 5 # 6 # 7 # 8 # 9 #10 \n",
      "Device [#364] ports:# 1 \n",
      "Device [#288] ports:# 1 # 2 # 3 # 4 # 5 # 6 # 7 # 8 # 9 #10 \n",
      "Device [#287] ports:# 1 \n",
      "Device [#285] ports:# 1 # 2 # 3 # 4 # 5 # 6 # 7 # 8 # 9 #10 \n",
      "Device [#197] ports:# 1 \n",
      "Device [#279] ports:# 1 \n",
      "Device [#278] ports:# 1 \n",
      "Device [#277] ports:# 1 \n"
     ]
    }
   ],
   "source": [
    "add_device(test_string)"
   ]
  },
  {
   "cell_type": "code",
   "execution_count": 55,
   "metadata": {},
   "outputs": [
    {
     "name": "stdout",
     "output_type": "stream",
     "text": [
      "lst_device ['324', '113', '363', '364', '288', '287', '285', '197', '279', '278', '277']\n",
      "lst_ports [['3', '5'], ['1', '2', '3', '4', '11', '12'], ['1', '2', '3', '4', '5', '6', '7', '8', '9', '10'], ['1'], ['1', '2', '3', '4', '5', '6', '7', '8', '9', '10'], ['1'], ['1', '2', '3', '4', '5', '6', '7', '8', '9', '10'], ['1'], ['1'], ['1']]\n"
     ]
    },
    {
     "name": "stderr",
     "output_type": "stream",
     "text": [
      "Number of Devices and Ports unmatched... Devices:# 11, Ports:# 10"
     ]
    }
   ],
   "source": [
    "add_device(err_string)"
   ]
  },
  {
   "cell_type": "code",
   "execution_count": 33,
   "metadata": {},
   "outputs": [
    {
     "ename": "AttributeError",
     "evalue": "'NoneType' object has no attribute 'keys'",
     "output_type": "error",
     "traceback": [
      "\u001b[0;31m---------------------------------------------------------------------------\u001b[0m",
      "\u001b[0;31mAttributeError\u001b[0m                            Traceback (most recent call last)",
      "\u001b[0;32m<ipython-input-33-6fb6799948ea>\u001b[0m in \u001b[0;36m<module>\u001b[0;34m\u001b[0m\n\u001b[0;32m----> 1\u001b[0;31m \u001b[0mtest\u001b[0m\u001b[0;34m.\u001b[0m\u001b[0mkeys\u001b[0m\u001b[0;34m\u001b[0m\u001b[0;34m\u001b[0m\u001b[0m\n\u001b[0m",
      "\u001b[0;31mAttributeError\u001b[0m: 'NoneType' object has no attribute 'keys'"
     ]
    }
   ],
   "source": []
  }
 ],
 "metadata": {
  "kernelspec": {
   "display_name": "Python 3",
   "language": "python",
   "name": "python3"
  },
  "language_info": {
   "codemirror_mode": {
    "name": "ipython",
    "version": 3
   },
   "file_extension": ".py",
   "mimetype": "text/x-python",
   "name": "python",
   "nbconvert_exporter": "python",
   "pygments_lexer": "ipython3",
   "version": "3.6.9"
  }
 },
 "nbformat": 4,
 "nbformat_minor": 4
}
